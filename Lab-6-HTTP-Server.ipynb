{
 "cells": [
  {
   "cell_type": "markdown",
   "metadata": {},
   "source": [
    "# ENSF 310: Lab #6\n",
    "## A Simple Python HTTP Server\n",
    "\n",
    "Due: Friday, November 26th\n",
    "\n",
    "In this lab, you will start with the Simple Socket Server example from class."
   ]
  },
  {
   "cell_type": "markdown",
   "metadata": {},
   "source": [
    "# Part 1: GET Requests\n",
    "\n",
    "The provided `MyHTTPServer.py` file can be used a starting point.  As a reminder, to run the server, simply run the `.py` file and then visit `http://localhost:12345/` in your web browser.  Your task in this lab will be to implement the following functionality:\n",
    "- Visiting `http://localhost:12345/test.html` will read the `test.html` file and send it to the browser.\n",
    "- Visiting `http://localhost:12345/` will, at minimum, show 'Welcome to my Python Server' in the browser.\n",
    "- Visiting `http://localhost:12345/?name=Roman` will, at minimum, show '{name:Roman}' or something similar in the browser.\n",
    "- Visiting `http://localhost:12345/?name=Roman&class=ENSF310` will, at minimum, show '{name:Roman,class:ENSF310}' in the browser.\n",
    "\n",
    "The above are minimum requirements and you may be more creative in what you show in the browser."
   ]
  },
  {
   "cell_type": "markdown",
   "metadata": {},
   "source": [
    "# Part 2: POST Requests\n",
    "\n",
    "Now, extend your Python HTTP Server to also handle POST requests.  You should first create an html file which would result in a POST request (likely using a web form of some type).  Your server should simply show the variables sent via POST in the browser, similar to the behavior of the GET request with variables being passed via a `?`."
   ]
  },
  {
   "cell_type": "markdown",
   "metadata": {},
   "source": [
    "## Resources:\n",
    "- GET vs POST requests: https://www.w3schools.com/tags/ref_httpmethods.asp \n",
    "- Form Data: https://developer.mozilla.org/en-US/docs/Learn/Forms/Sending_and_retrieving_form_data\n"
   ]
  }
 ],
 "metadata": {
  "kernelspec": {
   "display_name": "Python 3",
   "language": "python",
   "name": "python3"
  },
  "language_info": {
   "codemirror_mode": {
    "name": "ipython",
    "version": 3
   },
   "file_extension": ".py",
   "mimetype": "text/x-python",
   "name": "python",
   "nbconvert_exporter": "python",
   "pygments_lexer": "ipython3",
   "version": "3.8.3"
  }
 },
 "nbformat": 4,
 "nbformat_minor": 2
}
